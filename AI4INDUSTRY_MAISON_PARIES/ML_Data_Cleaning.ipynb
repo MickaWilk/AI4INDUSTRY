{
 "cells": [
  {
   "cell_type": "code",
   "execution_count": 1,
   "id": "7d44229b",
   "metadata": {},
   "outputs": [],
   "source": [
    "import pandas as pd"
   ]
  },
  {
   "cell_type": "code",
   "execution_count": 7,
   "id": "eaf74f49",
   "metadata": {},
   "outputs": [],
   "source": [
    "data = pd.read_excel(\"uc-data/etude client été finale.ods\",engine=\"odf\")\n",
    "df = pd.read_csv(\"data_cleaned_map.csv\")"
   ]
  },
  {
   "cell_type": "code",
   "execution_count": 8,
   "id": "cd086bcc",
   "metadata": {
    "scrolled": true
   },
   "outputs": [
    {
     "data": {
      "text/html": [
       "<div>\n",
       "<style scoped>\n",
       "    .dataframe tbody tr th:only-of-type {\n",
       "        vertical-align: middle;\n",
       "    }\n",
       "\n",
       "    .dataframe tbody tr th {\n",
       "        vertical-align: top;\n",
       "    }\n",
       "\n",
       "    .dataframe thead th {\n",
       "        text-align: right;\n",
       "    }\n",
       "</style>\n",
       "<table border=\"1\" class=\"dataframe\">\n",
       "  <thead>\n",
       "    <tr style=\"text-align: right;\">\n",
       "      <th></th>\n",
       "      <th>Unnamed: 0</th>\n",
       "      <th>boutique</th>\n",
       "      <th>code_postal</th>\n",
       "      <th>client_anciennete</th>\n",
       "      <th>frequence_visites</th>\n",
       "      <th>captation</th>\n",
       "      <th>causes_achats</th>\n",
       "      <th>produit_prefere</th>\n",
       "      <th>produits_moins_connus</th>\n",
       "      <th>client_internet</th>\n",
       "      <th>volonte_boutique_proche</th>\n",
       "      <th>lat</th>\n",
       "      <th>lon</th>\n",
       "      <th>lat_boutique</th>\n",
       "      <th>lon_boutique</th>\n",
       "    </tr>\n",
       "  </thead>\n",
       "  <tbody>\n",
       "    <tr>\n",
       "      <th>0</th>\n",
       "      <td>0</td>\n",
       "      <td>Saint-Jean-de-Luz</td>\n",
       "      <td>31410</td>\n",
       "      <td>Depuis quelques annees</td>\n",
       "      <td>exceptionelle</td>\n",
       "      <td>bouche_a_oreille</td>\n",
       "      <td>pour me faire plaisir; pour regaler ma famille</td>\n",
       "      <td>Gateau basque</td>\n",
       "      <td>Je ne sais pas</td>\n",
       "      <td>Non</td>\n",
       "      <td>Non</td>\n",
       "      <td>43.367108</td>\n",
       "      <td>1.272896</td>\n",
       "      <td>43.387076</td>\n",
       "      <td>-1.663569</td>\n",
       "    </tr>\n",
       "    <tr>\n",
       "      <th>1</th>\n",
       "      <td>1</td>\n",
       "      <td>Saint-Jean-de-Luz</td>\n",
       "      <td>64500</td>\n",
       "      <td>Depuis toujours</td>\n",
       "      <td>exceptionelle</td>\n",
       "      <td>bouche_a_oreille</td>\n",
       "      <td>pour me faire plaisir; pour regaler ma famille...</td>\n",
       "      <td>Autres</td>\n",
       "      <td>Autres</td>\n",
       "      <td>Non</td>\n",
       "      <td>sans_avis</td>\n",
       "      <td>43.388867</td>\n",
       "      <td>-1.638179</td>\n",
       "      <td>43.387076</td>\n",
       "      <td>-1.663569</td>\n",
       "    </tr>\n",
       "    <tr>\n",
       "      <th>2</th>\n",
       "      <td>2</td>\n",
       "      <td>Saint-Jean-de-Luz</td>\n",
       "      <td>62400</td>\n",
       "      <td>Depuis quelques annees</td>\n",
       "      <td>regulier</td>\n",
       "      <td>boutique</td>\n",
       "      <td>pour me faire plaisir</td>\n",
       "      <td>Autres</td>\n",
       "      <td>Autres</td>\n",
       "      <td>Non</td>\n",
       "      <td>sans_avis</td>\n",
       "      <td>50.528190</td>\n",
       "      <td>2.642115</td>\n",
       "      <td>43.387076</td>\n",
       "      <td>-1.663569</td>\n",
       "    </tr>\n",
       "  </tbody>\n",
       "</table>\n",
       "</div>"
      ],
      "text/plain": [
       "   Unnamed: 0           boutique code_postal       client_anciennete  \\\n",
       "0           0  Saint-Jean-de-Luz       31410  Depuis quelques annees   \n",
       "1           1  Saint-Jean-de-Luz       64500         Depuis toujours   \n",
       "2           2  Saint-Jean-de-Luz       62400  Depuis quelques annees   \n",
       "\n",
       "  frequence_visites         captation  \\\n",
       "0     exceptionelle  bouche_a_oreille   \n",
       "1     exceptionelle  bouche_a_oreille   \n",
       "2          regulier          boutique   \n",
       "\n",
       "                                       causes_achats produit_prefere  \\\n",
       "0     pour me faire plaisir; pour regaler ma famille   Gateau basque   \n",
       "1  pour me faire plaisir; pour regaler ma famille...          Autres   \n",
       "2                              pour me faire plaisir          Autres   \n",
       "\n",
       "  produits_moins_connus client_internet volonte_boutique_proche        lat  \\\n",
       "0        Je ne sais pas             Non                     Non  43.367108   \n",
       "1                Autres             Non               sans_avis  43.388867   \n",
       "2                Autres             Non               sans_avis  50.528190   \n",
       "\n",
       "        lon  lat_boutique  lon_boutique  \n",
       "0  1.272896     43.387076     -1.663569  \n",
       "1 -1.638179     43.387076     -1.663569  \n",
       "2  2.642115     43.387076     -1.663569  "
      ]
     },
     "execution_count": 8,
     "metadata": {},
     "output_type": "execute_result"
    }
   ],
   "source": [
    "df.head(3)"
   ]
  },
  {
   "cell_type": "code",
   "execution_count": 9,
   "id": "ff6c5942",
   "metadata": {},
   "outputs": [],
   "source": [
    "df = df.drop(columns={\"lat\",'lon','lat_boutique','lon_boutique'})"
   ]
  },
  {
   "cell_type": "code",
   "execution_count": 10,
   "id": "5a46f159",
   "metadata": {},
   "outputs": [
    {
     "data": {
      "text/html": [
       "<div>\n",
       "<style scoped>\n",
       "    .dataframe tbody tr th:only-of-type {\n",
       "        vertical-align: middle;\n",
       "    }\n",
       "\n",
       "    .dataframe tbody tr th {\n",
       "        vertical-align: top;\n",
       "    }\n",
       "\n",
       "    .dataframe thead th {\n",
       "        text-align: right;\n",
       "    }\n",
       "</style>\n",
       "<table border=\"1\" class=\"dataframe\">\n",
       "  <thead>\n",
       "    <tr style=\"text-align: right;\">\n",
       "      <th></th>\n",
       "      <th>Horodateur</th>\n",
       "      <th>Unnamed: 1</th>\n",
       "      <th>Unnamed: 2</th>\n",
       "      <th>Boutique</th>\n",
       "      <th>code postal</th>\n",
       "      <th>Depuis combien de temps êtes vous un client de la Maison Pariès ?</th>\n",
       "      <th>A quelle fréquence venez-vous nous rendre visite ?</th>\n",
       "      <th>Comment nous avez-vous connus ?</th>\n",
       "      <th>En 2 mots, comment définiriez-vous la Maison ?</th>\n",
       "      <th>A quelle(s) occasion(s) effectuez-vous des achats chez nous</th>\n",
       "      <th>...</th>\n",
       "      <th>Pourquoi ?.1</th>\n",
       "      <th>Que devons-nous faire pour progresser ?</th>\n",
       "      <th>14. Dans les grandes évolutions de la consommation, quelles sont les 3 qui vous tiennent le plus à cœur ?</th>\n",
       "      <th>Sexe</th>\n",
       "      <th>Quelle est votre catégorie socio-professionnelle ?</th>\n",
       "      <th>Tranche d'âge</th>\n",
       "      <th>de combien de personnes se compose votre foyer ?</th>\n",
       "      <th>S'il y a des enfants dans votre foyer, quel âge ont-ils ?</th>\n",
       "      <th>Êtes-vous abonné à notre newsletter ?</th>\n",
       "      <th>Si non, confiez-moi votre adresse mail pour recevoir notre actualité (moins de 10 mails par an)</th>\n",
       "    </tr>\n",
       "  </thead>\n",
       "  <tbody>\n",
       "    <tr>\n",
       "      <th>0</th>\n",
       "      <td>2022-06-08 12:11:42</td>\n",
       "      <td>2022-06-07 00:00:00</td>\n",
       "      <td>12:06:00</td>\n",
       "      <td>St Jean</td>\n",
       "      <td>31410</td>\n",
       "      <td>Depuis quelques années</td>\n",
       "      <td>visite exceptionnelle</td>\n",
       "      <td>bouche à oreille</td>\n",
       "      <td>Accueillant</td>\n",
       "      <td>pour me faire plaisir; pour régaler ma famille</td>\n",
       "      <td>...</td>\n",
       "      <td>Associé à la région</td>\n",
       "      <td>Je ne sais pas</td>\n",
       "      <td>Alimentation durable (naturalité, moins de gas...</td>\n",
       "      <td>Femme</td>\n",
       "      <td>Retraité</td>\n",
       "      <td>65 et +</td>\n",
       "      <td>2.0</td>\n",
       "      <td>NaN</td>\n",
       "      <td>Non</td>\n",
       "      <td>NaN</td>\n",
       "    </tr>\n",
       "    <tr>\n",
       "      <th>1</th>\n",
       "      <td>2022-06-08 12:17:46</td>\n",
       "      <td>2022-06-08 00:00:00</td>\n",
       "      <td>12:12:00</td>\n",
       "      <td>St Jean</td>\n",
       "      <td>64500</td>\n",
       "      <td>Depuis toujours</td>\n",
       "      <td>visite exceptionnelle</td>\n",
       "      <td>avec vos parents, votre famille</td>\n",
       "      <td>Bon; Fiable</td>\n",
       "      <td>pour me faire plaisir; pour régaler ma famille...</td>\n",
       "      <td>...</td>\n",
       "      <td>NaN</td>\n",
       "      <td>Je ne sais pas</td>\n",
       "      <td>Alimentation santé bien être et transparence</td>\n",
       "      <td>Femme</td>\n",
       "      <td>Retraité</td>\n",
       "      <td>65 et +</td>\n",
       "      <td>2.0</td>\n",
       "      <td>NaN</td>\n",
       "      <td>Non</td>\n",
       "      <td>NaN</td>\n",
       "    </tr>\n",
       "  </tbody>\n",
       "</table>\n",
       "<p>2 rows × 27 columns</p>\n",
       "</div>"
      ],
      "text/plain": [
       "            Horodateur           Unnamed: 1 Unnamed: 2 Boutique code postal  \\\n",
       "0  2022-06-08 12:11:42  2022-06-07 00:00:00   12:06:00  St Jean       31410   \n",
       "1  2022-06-08 12:17:46  2022-06-08 00:00:00   12:12:00  St Jean       64500   \n",
       "\n",
       "  Depuis combien de temps êtes vous un client de la Maison Pariès ?  \\\n",
       "0                             Depuis quelques années                  \n",
       "1                                    Depuis toujours                  \n",
       "\n",
       "  A quelle fréquence venez-vous nous rendre visite ?  \\\n",
       "0                              visite exceptionnelle   \n",
       "1                              visite exceptionnelle   \n",
       "\n",
       "   Comment nous avez-vous connus ?  \\\n",
       "0                 bouche à oreille   \n",
       "1  avec vos parents, votre famille   \n",
       "\n",
       "  En 2 mots, comment définiriez-vous la Maison ?  \\\n",
       "0                                    Accueillant   \n",
       "1                                    Bon; Fiable   \n",
       "\n",
       "  A quelle(s) occasion(s) effectuez-vous des achats chez nous  ...  \\\n",
       "0     pour me faire plaisir; pour régaler ma famille           ...   \n",
       "1  pour me faire plaisir; pour régaler ma famille...           ...   \n",
       "\n",
       "          Pourquoi ?.1 Que devons-nous faire pour progresser ?  \\\n",
       "0  Associé à la région                          Je ne sais pas   \n",
       "1                  NaN                          Je ne sais pas   \n",
       "\n",
       "  14. Dans les grandes évolutions de la consommation, quelles sont les 3 qui vous tiennent le plus à cœur ?  \\\n",
       "0  Alimentation durable (naturalité, moins de gas...                                                          \n",
       "1       Alimentation santé bien être et transparence                                                          \n",
       "\n",
       "    Sexe Quelle est votre catégorie socio-professionnelle ? Tranche d'âge  \\\n",
       "0  Femme                                           Retraité       65 et +   \n",
       "1  Femme                                           Retraité       65 et +   \n",
       "\n",
       "  de combien de personnes se compose votre foyer ?  \\\n",
       "0                                              2.0   \n",
       "1                                              2.0   \n",
       "\n",
       "  S'il y a des enfants dans votre foyer, quel âge ont-ils ?  \\\n",
       "0                                                NaN          \n",
       "1                                                NaN          \n",
       "\n",
       "  Êtes-vous abonné à notre newsletter ?  \\\n",
       "0                                   Non   \n",
       "1                                   Non   \n",
       "\n",
       "  Si non, confiez-moi votre adresse mail pour recevoir notre actualité (moins de 10 mails par an)  \n",
       "0                                                NaN                                               \n",
       "1                                                NaN                                               \n",
       "\n",
       "[2 rows x 27 columns]"
      ]
     },
     "execution_count": 10,
     "metadata": {},
     "output_type": "execute_result"
    }
   ],
   "source": [
    "data.head(2)"
   ]
  },
  {
   "cell_type": "code",
   "execution_count": 13,
   "id": "dc28f3c4",
   "metadata": {
    "scrolled": true
   },
   "outputs": [
    {
     "data": {
      "text/html": [
       "<div>\n",
       "<style scoped>\n",
       "    .dataframe tbody tr th:only-of-type {\n",
       "        vertical-align: middle;\n",
       "    }\n",
       "\n",
       "    .dataframe tbody tr th {\n",
       "        vertical-align: top;\n",
       "    }\n",
       "\n",
       "    .dataframe thead th {\n",
       "        text-align: right;\n",
       "    }\n",
       "</style>\n",
       "<table border=\"1\" class=\"dataframe\">\n",
       "  <thead>\n",
       "    <tr style=\"text-align: right;\">\n",
       "      <th></th>\n",
       "      <th>Unnamed: 0</th>\n",
       "      <th>boutique</th>\n",
       "      <th>code_postal</th>\n",
       "      <th>client_anciennete</th>\n",
       "      <th>frequence_visites</th>\n",
       "      <th>captation</th>\n",
       "      <th>causes_achats</th>\n",
       "      <th>produit_prefere</th>\n",
       "      <th>produits_moins_connus</th>\n",
       "      <th>client_internet</th>\n",
       "      <th>volonte_boutique_proche</th>\n",
       "      <th>taille_famille</th>\n",
       "    </tr>\n",
       "  </thead>\n",
       "  <tbody>\n",
       "    <tr>\n",
       "      <th>0</th>\n",
       "      <td>0</td>\n",
       "      <td>Saint-Jean-de-Luz</td>\n",
       "      <td>31410</td>\n",
       "      <td>Depuis quelques annees</td>\n",
       "      <td>exceptionelle</td>\n",
       "      <td>bouche_a_oreille</td>\n",
       "      <td>pour me faire plaisir; pour regaler ma famille</td>\n",
       "      <td>Gateau basque</td>\n",
       "      <td>Je ne sais pas</td>\n",
       "      <td>Non</td>\n",
       "      <td>Non</td>\n",
       "      <td>2.0</td>\n",
       "    </tr>\n",
       "  </tbody>\n",
       "</table>\n",
       "</div>"
      ],
      "text/plain": [
       "   Unnamed: 0           boutique code_postal       client_anciennete  \\\n",
       "0           0  Saint-Jean-de-Luz       31410  Depuis quelques annees   \n",
       "\n",
       "  frequence_visites         captation  \\\n",
       "0     exceptionelle  bouche_a_oreille   \n",
       "\n",
       "                                    causes_achats produit_prefere  \\\n",
       "0  pour me faire plaisir; pour regaler ma famille   Gateau basque   \n",
       "\n",
       "  produits_moins_connus client_internet volonte_boutique_proche  \\\n",
       "0        Je ne sais pas             Non                     Non   \n",
       "\n",
       "   taille_famille  \n",
       "0             2.0  "
      ]
     },
     "execution_count": 13,
     "metadata": {},
     "output_type": "execute_result"
    }
   ],
   "source": [
    "df['taille_famille'] = data['de combien de personnes se compose votre foyer ?']\n",
    "df.head(1)"
   ]
  },
  {
   "cell_type": "code",
   "execution_count": 14,
   "id": "9f14b26e",
   "metadata": {},
   "outputs": [
    {
     "data": {
      "text/plain": [
       "Unnamed: 0                 0\n",
       "boutique                   0\n",
       "code_postal                0\n",
       "client_anciennete          0\n",
       "frequence_visites          0\n",
       "captation                  0\n",
       "causes_achats              0\n",
       "produit_prefere            0\n",
       "produits_moins_connus      0\n",
       "client_internet            0\n",
       "volonte_boutique_proche    0\n",
       "taille_famille             4\n",
       "dtype: int64"
      ]
     },
     "execution_count": 14,
     "metadata": {},
     "output_type": "execute_result"
    }
   ],
   "source": [
    "df.isna().sum()"
   ]
  },
  {
   "cell_type": "code",
   "execution_count": 15,
   "id": "9f234627",
   "metadata": {
    "scrolled": true
   },
   "outputs": [
    {
     "data": {
      "text/plain": [
       "2.0     507\n",
       "4.0     205\n",
       "1.0     193\n",
       "3.0     168\n",
       "5.0      88\n",
       "6.0      21\n",
       "8.0       2\n",
       "7.0       2\n",
       "12.0      1\n",
       "Name: taille_famille, dtype: int64"
      ]
     },
     "execution_count": 15,
     "metadata": {},
     "output_type": "execute_result"
    }
   ],
   "source": [
    "df['taille_famille'].value_counts()"
   ]
  },
  {
   "cell_type": "code",
   "execution_count": 18,
   "id": "a2d50554",
   "metadata": {},
   "outputs": [
    {
     "data": {
      "text/plain": [
       "numpy.float64"
      ]
     },
     "execution_count": 18,
     "metadata": {},
     "output_type": "execute_result"
    }
   ],
   "source": [
    "type(df['taille_famille'][0])"
   ]
  },
  {
   "cell_type": "code",
   "execution_count": 25,
   "id": "dc3eaaff",
   "metadata": {},
   "outputs": [],
   "source": [
    "def clean(x) :\n",
    "    if x > 4.0 : \n",
    "        x = 100.0\n",
    "    return x\n",
    "\n",
    "df['taille_famille'] = df['taille_famille'].apply(clean)"
   ]
  },
  {
   "cell_type": "code",
   "execution_count": 26,
   "id": "a71d5510",
   "metadata": {
    "scrolled": true
   },
   "outputs": [
    {
     "data": {
      "text/plain": [
       "2.0      507\n",
       "4.0      205\n",
       "1.0      193\n",
       "3.0      168\n",
       "100.0    114\n",
       "Name: taille_famille, dtype: int64"
      ]
     },
     "execution_count": 26,
     "metadata": {},
     "output_type": "execute_result"
    }
   ],
   "source": [
    "df['taille_famille'].value_counts()"
   ]
  },
  {
   "cell_type": "code",
   "execution_count": 27,
   "id": "d8c9b56d",
   "metadata": {
    "scrolled": false
   },
   "outputs": [
    {
     "data": {
      "text/html": [
       "<div>\n",
       "<style scoped>\n",
       "    .dataframe tbody tr th:only-of-type {\n",
       "        vertical-align: middle;\n",
       "    }\n",
       "\n",
       "    .dataframe tbody tr th {\n",
       "        vertical-align: top;\n",
       "    }\n",
       "\n",
       "    .dataframe thead th {\n",
       "        text-align: right;\n",
       "    }\n",
       "</style>\n",
       "<table border=\"1\" class=\"dataframe\">\n",
       "  <thead>\n",
       "    <tr style=\"text-align: right;\">\n",
       "      <th></th>\n",
       "      <th>Unnamed: 0</th>\n",
       "      <th>boutique</th>\n",
       "      <th>code_postal</th>\n",
       "      <th>client_anciennete</th>\n",
       "      <th>frequence_visites</th>\n",
       "      <th>captation</th>\n",
       "      <th>causes_achats</th>\n",
       "      <th>produit_prefere</th>\n",
       "      <th>produits_moins_connus</th>\n",
       "      <th>client_internet</th>\n",
       "      <th>volonte_boutique_proche</th>\n",
       "      <th>taille_famille</th>\n",
       "    </tr>\n",
       "  </thead>\n",
       "  <tbody>\n",
       "    <tr>\n",
       "      <th>0</th>\n",
       "      <td>0</td>\n",
       "      <td>Saint-Jean-de-Luz</td>\n",
       "      <td>31410</td>\n",
       "      <td>Depuis quelques annees</td>\n",
       "      <td>exceptionelle</td>\n",
       "      <td>bouche_a_oreille</td>\n",
       "      <td>pour me faire plaisir; pour regaler ma famille</td>\n",
       "      <td>Gateau basque</td>\n",
       "      <td>Je ne sais pas</td>\n",
       "      <td>Non</td>\n",
       "      <td>Non</td>\n",
       "      <td>2.0</td>\n",
       "    </tr>\n",
       "    <tr>\n",
       "      <th>1</th>\n",
       "      <td>1</td>\n",
       "      <td>Saint-Jean-de-Luz</td>\n",
       "      <td>64500</td>\n",
       "      <td>Depuis toujours</td>\n",
       "      <td>exceptionelle</td>\n",
       "      <td>bouche_a_oreille</td>\n",
       "      <td>pour me faire plaisir; pour regaler ma famille...</td>\n",
       "      <td>Autres</td>\n",
       "      <td>Autres</td>\n",
       "      <td>Non</td>\n",
       "      <td>sans_avis</td>\n",
       "      <td>2.0</td>\n",
       "    </tr>\n",
       "    <tr>\n",
       "      <th>2</th>\n",
       "      <td>2</td>\n",
       "      <td>Saint-Jean-de-Luz</td>\n",
       "      <td>62400</td>\n",
       "      <td>Depuis quelques annees</td>\n",
       "      <td>regulier</td>\n",
       "      <td>boutique</td>\n",
       "      <td>pour me faire plaisir</td>\n",
       "      <td>Autres</td>\n",
       "      <td>Autres</td>\n",
       "      <td>Non</td>\n",
       "      <td>sans_avis</td>\n",
       "      <td>2.0</td>\n",
       "    </tr>\n",
       "    <tr>\n",
       "      <th>3</th>\n",
       "      <td>3</td>\n",
       "      <td>Saint-Jean-de-Luz</td>\n",
       "      <td>33820</td>\n",
       "      <td>Depuis quelques annees</td>\n",
       "      <td>exceptionelle</td>\n",
       "      <td>boutique</td>\n",
       "      <td>pour me faire plaisir; pour faire un cadeau</td>\n",
       "      <td>Autres</td>\n",
       "      <td>Autres</td>\n",
       "      <td>Non</td>\n",
       "      <td>oui</td>\n",
       "      <td>2.0</td>\n",
       "    </tr>\n",
       "    <tr>\n",
       "      <th>4</th>\n",
       "      <td>4</td>\n",
       "      <td>Saint-Jean-de-Luz</td>\n",
       "      <td>64210</td>\n",
       "      <td>Depuis quelques annees</td>\n",
       "      <td>exceptionelle</td>\n",
       "      <td>bouche_a_oreille_et_boutique</td>\n",
       "      <td>pour me faire plaisir; pour faire un cadeau</td>\n",
       "      <td>Autres</td>\n",
       "      <td>Gateau basque aux agrumes</td>\n",
       "      <td>Non</td>\n",
       "      <td>sans_avis</td>\n",
       "      <td>2.0</td>\n",
       "    </tr>\n",
       "  </tbody>\n",
       "</table>\n",
       "</div>"
      ],
      "text/plain": [
       "   Unnamed: 0           boutique code_postal       client_anciennete  \\\n",
       "0           0  Saint-Jean-de-Luz       31410  Depuis quelques annees   \n",
       "1           1  Saint-Jean-de-Luz       64500         Depuis toujours   \n",
       "2           2  Saint-Jean-de-Luz       62400  Depuis quelques annees   \n",
       "3           3  Saint-Jean-de-Luz       33820  Depuis quelques annees   \n",
       "4           4  Saint-Jean-de-Luz       64210  Depuis quelques annees   \n",
       "\n",
       "  frequence_visites                     captation  \\\n",
       "0     exceptionelle              bouche_a_oreille   \n",
       "1     exceptionelle              bouche_a_oreille   \n",
       "2          regulier                      boutique   \n",
       "3     exceptionelle                      boutique   \n",
       "4     exceptionelle  bouche_a_oreille_et_boutique   \n",
       "\n",
       "                                       causes_achats produit_prefere  \\\n",
       "0     pour me faire plaisir; pour regaler ma famille   Gateau basque   \n",
       "1  pour me faire plaisir; pour regaler ma famille...          Autres   \n",
       "2                              pour me faire plaisir          Autres   \n",
       "3        pour me faire plaisir; pour faire un cadeau          Autres   \n",
       "4        pour me faire plaisir; pour faire un cadeau          Autres   \n",
       "\n",
       "       produits_moins_connus client_internet volonte_boutique_proche  \\\n",
       "0             Je ne sais pas             Non                     Non   \n",
       "1                     Autres             Non               sans_avis   \n",
       "2                     Autres             Non               sans_avis   \n",
       "3                     Autres             Non                     oui   \n",
       "4  Gateau basque aux agrumes             Non               sans_avis   \n",
       "\n",
       "   taille_famille  \n",
       "0             2.0  \n",
       "1             2.0  \n",
       "2             2.0  \n",
       "3             2.0  \n",
       "4             2.0  "
      ]
     },
     "execution_count": 27,
     "metadata": {},
     "output_type": "execute_result"
    }
   ],
   "source": [
    "df.head(5)"
   ]
  },
  {
   "cell_type": "code",
   "execution_count": 31,
   "id": "82aec59e",
   "metadata": {},
   "outputs": [
    {
     "data": {
      "text/plain": [
       "Depuis quelques annees                599\n",
       "Depuis toujours                       320\n",
       "C’est une de mes premieres visites    228\n",
       "Depuis moins d'un an                   44\n",
       "Name: client_anciennete, dtype: int64"
      ]
     },
     "execution_count": 31,
     "metadata": {},
     "output_type": "execute_result"
    }
   ],
   "source": [
    "df['client_anciennete'].value_counts()"
   ]
  },
  {
   "cell_type": "code",
   "execution_count": 30,
   "id": "3bc11287",
   "metadata": {},
   "outputs": [],
   "source": [
    "df.to_csv('data_cleaned_ml.csv')"
   ]
  }
 ],
 "metadata": {
  "kernelspec": {
   "display_name": "Python 3 (ipykernel)",
   "language": "python",
   "name": "python3"
  },
  "language_info": {
   "codemirror_mode": {
    "name": "ipython",
    "version": 3
   },
   "file_extension": ".py",
   "mimetype": "text/x-python",
   "name": "python",
   "nbconvert_exporter": "python",
   "pygments_lexer": "ipython3",
   "version": "3.8.12"
  },
  "toc": {
   "base_numbering": 1,
   "nav_menu": {},
   "number_sections": true,
   "sideBar": true,
   "skip_h1_title": false,
   "title_cell": "Table of Contents",
   "title_sidebar": "Contents",
   "toc_cell": false,
   "toc_position": {},
   "toc_section_display": true,
   "toc_window_display": false
  }
 },
 "nbformat": 4,
 "nbformat_minor": 5
}
