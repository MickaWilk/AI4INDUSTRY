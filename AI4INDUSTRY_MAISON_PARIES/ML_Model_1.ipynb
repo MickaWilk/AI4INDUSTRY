{
 "cells": [
  {
   "cell_type": "code",
   "execution_count": 1,
   "id": "8c03f298",
   "metadata": {},
   "outputs": [],
   "source": [
    "import numpy as np\n",
    "import pandas as pd \n",
    "import seaborn as sns\n",
    "import pickle\n",
    "import matplotlib.pyplot as plt\n",
    "import scikitplot as skplt\n",
    "from sklearn.ensemble import RandomForestClassifier\n",
    "from sklearn.datasets import make_classification\n",
    "from sklearn.linear_model import LinearRegression\n",
    "from sklearn.model_selection import train_test_split, cross_val_score, KFold\n",
    "from sklearn.preprocessing import OneHotEncoder, MinMaxScaler, StandardScaler, RobustScaler"
   ]
  },
  {
   "cell_type": "code",
   "execution_count": 2,
   "id": "a8a66dbd",
   "metadata": {
    "scrolled": true
   },
   "outputs": [
    {
     "data": {
      "text/html": [
       "<div>\n",
       "<style scoped>\n",
       "    .dataframe tbody tr th:only-of-type {\n",
       "        vertical-align: middle;\n",
       "    }\n",
       "\n",
       "    .dataframe tbody tr th {\n",
       "        vertical-align: top;\n",
       "    }\n",
       "\n",
       "    .dataframe thead th {\n",
       "        text-align: right;\n",
       "    }\n",
       "</style>\n",
       "<table border=\"1\" class=\"dataframe\">\n",
       "  <thead>\n",
       "    <tr style=\"text-align: right;\">\n",
       "      <th></th>\n",
       "      <th>Unnamed: 0</th>\n",
       "      <th>Unnamed: 0.1</th>\n",
       "      <th>boutique</th>\n",
       "      <th>code_postal</th>\n",
       "      <th>client_anciennete</th>\n",
       "      <th>frequence_visites</th>\n",
       "      <th>captation</th>\n",
       "      <th>causes_achats</th>\n",
       "      <th>produit_prefere</th>\n",
       "      <th>produits_moins_connus</th>\n",
       "      <th>client_internet</th>\n",
       "      <th>volonte_boutique_proche</th>\n",
       "      <th>taille_famille</th>\n",
       "    </tr>\n",
       "  </thead>\n",
       "  <tbody>\n",
       "    <tr>\n",
       "      <th>0</th>\n",
       "      <td>0</td>\n",
       "      <td>0</td>\n",
       "      <td>Saint-Jean-de-Luz</td>\n",
       "      <td>31410</td>\n",
       "      <td>Depuis quelques annees</td>\n",
       "      <td>exceptionelle</td>\n",
       "      <td>bouche_a_oreille</td>\n",
       "      <td>pour me faire plaisir; pour regaler ma famille</td>\n",
       "      <td>Gateau basque</td>\n",
       "      <td>Je ne sais pas</td>\n",
       "      <td>Non</td>\n",
       "      <td>Non</td>\n",
       "      <td>2.0</td>\n",
       "    </tr>\n",
       "    <tr>\n",
       "      <th>1</th>\n",
       "      <td>1</td>\n",
       "      <td>1</td>\n",
       "      <td>Saint-Jean-de-Luz</td>\n",
       "      <td>64500</td>\n",
       "      <td>Depuis toujours</td>\n",
       "      <td>exceptionelle</td>\n",
       "      <td>bouche_a_oreille</td>\n",
       "      <td>pour me faire plaisir; pour regaler ma famille...</td>\n",
       "      <td>Autres</td>\n",
       "      <td>Autres</td>\n",
       "      <td>Non</td>\n",
       "      <td>sans_avis</td>\n",
       "      <td>2.0</td>\n",
       "    </tr>\n",
       "    <tr>\n",
       "      <th>2</th>\n",
       "      <td>2</td>\n",
       "      <td>2</td>\n",
       "      <td>Saint-Jean-de-Luz</td>\n",
       "      <td>62400</td>\n",
       "      <td>Depuis quelques annees</td>\n",
       "      <td>regulier</td>\n",
       "      <td>boutique</td>\n",
       "      <td>pour me faire plaisir</td>\n",
       "      <td>Autres</td>\n",
       "      <td>Autres</td>\n",
       "      <td>Non</td>\n",
       "      <td>sans_avis</td>\n",
       "      <td>2.0</td>\n",
       "    </tr>\n",
       "    <tr>\n",
       "      <th>3</th>\n",
       "      <td>3</td>\n",
       "      <td>3</td>\n",
       "      <td>Saint-Jean-de-Luz</td>\n",
       "      <td>33820</td>\n",
       "      <td>Depuis quelques annees</td>\n",
       "      <td>exceptionelle</td>\n",
       "      <td>boutique</td>\n",
       "      <td>pour me faire plaisir; pour faire un cadeau</td>\n",
       "      <td>Autres</td>\n",
       "      <td>Autres</td>\n",
       "      <td>Non</td>\n",
       "      <td>oui</td>\n",
       "      <td>2.0</td>\n",
       "    </tr>\n",
       "    <tr>\n",
       "      <th>4</th>\n",
       "      <td>4</td>\n",
       "      <td>4</td>\n",
       "      <td>Saint-Jean-de-Luz</td>\n",
       "      <td>64210</td>\n",
       "      <td>Depuis quelques annees</td>\n",
       "      <td>exceptionelle</td>\n",
       "      <td>bouche_a_oreille_et_boutique</td>\n",
       "      <td>pour me faire plaisir; pour faire un cadeau</td>\n",
       "      <td>Autres</td>\n",
       "      <td>Gateau basque aux agrumes</td>\n",
       "      <td>Non</td>\n",
       "      <td>sans_avis</td>\n",
       "      <td>2.0</td>\n",
       "    </tr>\n",
       "  </tbody>\n",
       "</table>\n",
       "</div>"
      ],
      "text/plain": [
       "   Unnamed: 0  Unnamed: 0.1           boutique code_postal  \\\n",
       "0           0             0  Saint-Jean-de-Luz       31410   \n",
       "1           1             1  Saint-Jean-de-Luz       64500   \n",
       "2           2             2  Saint-Jean-de-Luz       62400   \n",
       "3           3             3  Saint-Jean-de-Luz       33820   \n",
       "4           4             4  Saint-Jean-de-Luz       64210   \n",
       "\n",
       "        client_anciennete frequence_visites                     captation  \\\n",
       "0  Depuis quelques annees     exceptionelle              bouche_a_oreille   \n",
       "1         Depuis toujours     exceptionelle              bouche_a_oreille   \n",
       "2  Depuis quelques annees          regulier                      boutique   \n",
       "3  Depuis quelques annees     exceptionelle                      boutique   \n",
       "4  Depuis quelques annees     exceptionelle  bouche_a_oreille_et_boutique   \n",
       "\n",
       "                                       causes_achats produit_prefere  \\\n",
       "0     pour me faire plaisir; pour regaler ma famille   Gateau basque   \n",
       "1  pour me faire plaisir; pour regaler ma famille...          Autres   \n",
       "2                              pour me faire plaisir          Autres   \n",
       "3        pour me faire plaisir; pour faire un cadeau          Autres   \n",
       "4        pour me faire plaisir; pour faire un cadeau          Autres   \n",
       "\n",
       "       produits_moins_connus client_internet volonte_boutique_proche  \\\n",
       "0             Je ne sais pas             Non                     Non   \n",
       "1                     Autres             Non               sans_avis   \n",
       "2                     Autres             Non               sans_avis   \n",
       "3                     Autres             Non                     oui   \n",
       "4  Gateau basque aux agrumes             Non               sans_avis   \n",
       "\n",
       "   taille_famille  \n",
       "0             2.0  \n",
       "1             2.0  \n",
       "2             2.0  \n",
       "3             2.0  \n",
       "4             2.0  "
      ]
     },
     "execution_count": 2,
     "metadata": {},
     "output_type": "execute_result"
    }
   ],
   "source": [
    "data = pd.read_csv(\"data_cleaned_ml.csv\")\n",
    "data.head(5)"
   ]
  },
  {
   "cell_type": "markdown",
   "id": "e2bec3da",
   "metadata": {},
   "source": [
    "### Choix de la cible et des parametres"
   ]
  },
  {
   "cell_type": "code",
   "execution_count": 3,
   "id": "21188716",
   "metadata": {},
   "outputs": [],
   "source": [
    "y = data['produit_prefere']\n",
    "X = data['client_anciennete']"
   ]
  },
  {
   "cell_type": "code",
   "execution_count": 4,
   "id": "274a57b3",
   "metadata": {},
   "outputs": [],
   "source": [
    "X_train,X_test, y_train, y_test = train_test_split(X, y, test_size=0.3)"
   ]
  },
  {
   "cell_type": "code",
   "execution_count": 5,
   "id": "130addcc",
   "metadata": {},
   "outputs": [],
   "source": [
    "oh = OneHotEncoder()"
   ]
  },
  {
   "cell_type": "code",
   "execution_count": 6,
   "id": "e47dc15e",
   "metadata": {},
   "outputs": [],
   "source": [
    "X_train_oh = oh.fit_transform(np.array(X_train).reshape(-1, 1))\n",
    "X_test_oh = oh.transform(np.array(X_test).reshape(-1, 1))"
   ]
  },
  {
   "cell_type": "code",
   "execution_count": 7,
   "id": "9f1da3df",
   "metadata": {},
   "outputs": [],
   "source": [
    "X_2 = data[['client_anciennete','frequence_visites']]\n",
    "\n",
    "X_2_train,X_2_test, y_2_train, y_2_test = train_test_split(X, y, test_size=0.3)\n",
    "oh_2 = OneHotEncoder()\n",
    "\n",
    "X_2_train_oh = oh_2.fit_transform(np.array(X_train).reshape(-1, 1))\n",
    "X_2_test_oh = oh_2.transform(np.array(X_test).reshape(-1, 1))"
   ]
  },
  {
   "cell_type": "markdown",
   "id": "5e910baf",
   "metadata": {},
   "source": [
    "### Modele : Foret Aleatoire"
   ]
  },
  {
   "cell_type": "code",
   "execution_count": 8,
   "id": "120a3ae6",
   "metadata": {},
   "outputs": [],
   "source": [
    "rf = RandomForestClassifier()"
   ]
  },
  {
   "cell_type": "code",
   "execution_count": 9,
   "id": "47177774",
   "metadata": {},
   "outputs": [],
   "source": [
    "rf = rf.fit(X_train_oh,y_train)"
   ]
  },
  {
   "cell_type": "code",
   "execution_count": 10,
   "id": "7242ea48",
   "metadata": {
    "scrolled": true
   },
   "outputs": [
    {
     "data": {
      "text/plain": [
       "0.48044692737430167"
      ]
     },
     "execution_count": 10,
     "metadata": {},
     "output_type": "execute_result"
    }
   ],
   "source": [
    "rf.score(X_test_oh,y_test)"
   ]
  },
  {
   "cell_type": "code",
   "execution_count": 11,
   "id": "21a1407d",
   "metadata": {
    "scrolled": true
   },
   "outputs": [
    {
     "data": {
      "image/png": "[encoded data removed]",
      "text/plain": [
       "<Figure size 720x720 with 2 Axes>"
      ]
     },
     "metadata": {
      "needs_background": "light"
     },
     "output_type": "display_data"
    }
   ],
   "source": [
    "y_pred = rf.predict(X_test_oh)\n",
    "\n",
    "# matrice de confusion\n",
    "fig, ax = plt.subplots(figsize=(10, 10))\n",
    "skplt.metrics.plot_confusion_matrix(y_test, y_pred, normalize=True, ax=ax)\n",
    "plt.show()"
   ]
  },
  {
   "cell_type": "markdown",
   "id": "46947e72",
   "metadata": {},
   "source": [
    "#### Test avec 2 parametres"
   ]
  },
  {
   "cell_type": "code",
   "execution_count": 12,
   "id": "927acc62",
   "metadata": {},
   "outputs": [
    {
     "data": {
      "text/plain": [
       "0.35195530726256985"
      ]
     },
     "execution_count": 12,
     "metadata": {},
     "output_type": "execute_result"
    }
   ],
   "source": [
    "rf_2 = RandomForestClassifier()\n",
    "\n",
    "rf_2 = rf_2.fit(X_2_train_oh,y_2_train)\n",
    "\n",
    "rf_2.score(X_2_test_oh,y_2_test)"
   ]
  },
  {
   "cell_type": "code",
   "execution_count": 13,
   "id": "692c2546",
   "metadata": {
    "scrolled": true
   },
   "outputs": [
    {
     "data": {
      "image/png": "[encoded data removed]",
      "text/plain": [
       "<Figure size 720x720 with 2 Axes>"
      ]
     },
     "metadata": {
      "needs_background": "light"
     },
     "output_type": "display_data"
    }
   ],
   "source": [
    "y_2_pred = rf_2.predict(X_2_test_oh)\n",
    "\n",
    "# matrice de confusion\n",
    "fig, ax = plt.subplots(figsize=(10, 10))\n",
    "skplt.metrics.plot_confusion_matrix(y_2_test, y_2_pred, normalize=True, ax=ax)\n",
    "plt.show()"
   ]
  }
 ],
 "metadata": {
  "kernelspec": {
   "display_name": "Python 3 (ipykernel)",
   "language": "python",
   "name": "python3"
  },
  "language_info": {
   "codemirror_mode": {
    "name": "ipython",
    "version": 3
   },
   "file_extension": ".py",
   "mimetype": "text/x-python",
   "name": "python",
   "nbconvert_exporter": "python",
   "pygments_lexer": "ipython3",
   "version": "3.8.12"
  },
  "toc": {
   "base_numbering": 1,
   "nav_menu": {},
   "number_sections": true,
   "sideBar": true,
   "skip_h1_title": false,
   "title_cell": "Table of Contents",
   "title_sidebar": "Contents",
   "toc_cell": false,
   "toc_position": {},
   "toc_section_display": true,
   "toc_window_display": false
  }
 },
 "nbformat": 4,
 "nbformat_minor": 5
}
