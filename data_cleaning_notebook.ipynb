{
 "cells": [
  {
   "cell_type": "code",
   "execution_count": 1,
   "metadata": {},
   "outputs": [],
   "source": [
    "# !source AI4INDUSTRY-env/bin/activate"
   ]
  },
  {
   "cell_type": "code",
   "execution_count": 2,
   "metadata": {},
   "outputs": [],
   "source": [
    "# !pip install odfpy\n",
    "# !pip install pandas\n",
    "# !pip install openpyxl\n",
    "# !pip install requests\n",
    "# !pip install seaborn\n",
    "# !pip install folium\n",
    "# !pip install matplotlib\n",
    "# !pip install scikit-learn"
   ]
  },
  {
   "cell_type": "code",
   "execution_count": 3,
   "metadata": {},
   "outputs": [],
   "source": [
    "import pandas as pd"
   ]
  },
  {
   "cell_type": "code",
   "execution_count": 10,
   "metadata": {},
   "outputs": [
    {
     "data": {
      "text/html": [
       "<div>\n",
       "<style scoped>\n",
       "    .dataframe tbody tr th:only-of-type {\n",
       "        vertical-align: middle;\n",
       "    }\n",
       "\n",
       "    .dataframe tbody tr th {\n",
       "        vertical-align: top;\n",
       "    }\n",
       "\n",
       "    .dataframe thead th {\n",
       "        text-align: right;\n",
       "    }\n",
       "</style>\n",
       "<table border=\"1\" class=\"dataframe\">\n",
       "  <thead>\n",
       "    <tr style=\"text-align: right;\">\n",
       "      <th></th>\n",
       "      <th>boutique</th>\n",
       "      <th>code_postal</th>\n",
       "      <th>client_anciennete</th>\n",
       "      <th>frequence_visites</th>\n",
       "      <th>captation</th>\n",
       "      <th>causes_achats</th>\n",
       "      <th>produit_prefere</th>\n",
       "      <th>produits_moins_connus</th>\n",
       "      <th>client_internet</th>\n",
       "      <th>volonte_boutique_proche</th>\n",
       "      <th>lat</th>\n",
       "      <th>lon</th>\n",
       "      <th>lat_boutique</th>\n",
       "      <th>lon_boutique</th>\n",
       "    </tr>\n",
       "  </thead>\n",
       "  <tbody>\n",
       "    <tr>\n",
       "      <th>0</th>\n",
       "      <td>Saint-Jean-de-Luz</td>\n",
       "      <td>31410</td>\n",
       "      <td>Depuis quelques annees</td>\n",
       "      <td>exceptionelle</td>\n",
       "      <td>bouche_a_oreille</td>\n",
       "      <td>pour me faire plaisir; pour regaler ma famille</td>\n",
       "      <td>Gateau basque</td>\n",
       "      <td>Je ne sais pas</td>\n",
       "      <td>Non</td>\n",
       "      <td>Non</td>\n",
       "      <td>43.367108</td>\n",
       "      <td>1.272896</td>\n",
       "      <td>43.387076</td>\n",
       "      <td>-1.663569</td>\n",
       "    </tr>\n",
       "    <tr>\n",
       "      <th>1</th>\n",
       "      <td>Saint-Jean-de-Luz</td>\n",
       "      <td>64500</td>\n",
       "      <td>Depuis toujours</td>\n",
       "      <td>exceptionelle</td>\n",
       "      <td>bouche_a_oreille</td>\n",
       "      <td>pour me faire plaisir; pour regaler ma famille...</td>\n",
       "      <td>Autres</td>\n",
       "      <td>Autres</td>\n",
       "      <td>Non</td>\n",
       "      <td>sans_avis</td>\n",
       "      <td>43.388867</td>\n",
       "      <td>-1.638179</td>\n",
       "      <td>43.387076</td>\n",
       "      <td>-1.663569</td>\n",
       "    </tr>\n",
       "    <tr>\n",
       "      <th>2</th>\n",
       "      <td>Saint-Jean-de-Luz</td>\n",
       "      <td>62400</td>\n",
       "      <td>Depuis quelques annees</td>\n",
       "      <td>regulier</td>\n",
       "      <td>boutique</td>\n",
       "      <td>pour me faire plaisir</td>\n",
       "      <td>Autres</td>\n",
       "      <td>Autres</td>\n",
       "      <td>Non</td>\n",
       "      <td>sans_avis</td>\n",
       "      <td>50.528190</td>\n",
       "      <td>2.642115</td>\n",
       "      <td>43.387076</td>\n",
       "      <td>-1.663569</td>\n",
       "    </tr>\n",
       "    <tr>\n",
       "      <th>3</th>\n",
       "      <td>Saint-Jean-de-Luz</td>\n",
       "      <td>33820</td>\n",
       "      <td>Depuis quelques annees</td>\n",
       "      <td>exceptionelle</td>\n",
       "      <td>boutique</td>\n",
       "      <td>pour me faire plaisir; pour faire un cadeau</td>\n",
       "      <td>Autres</td>\n",
       "      <td>Autres</td>\n",
       "      <td>Non</td>\n",
       "      <td>oui</td>\n",
       "      <td>61.466562</td>\n",
       "      <td>23.819322</td>\n",
       "      <td>43.387076</td>\n",
       "      <td>-1.663569</td>\n",
       "    </tr>\n",
       "    <tr>\n",
       "      <th>4</th>\n",
       "      <td>Saint-Jean-de-Luz</td>\n",
       "      <td>64210</td>\n",
       "      <td>Depuis quelques annees</td>\n",
       "      <td>exceptionelle</td>\n",
       "      <td>bouche_a_oreille_et_boutique</td>\n",
       "      <td>pour me faire plaisir; pour faire un cadeau</td>\n",
       "      <td>Autres</td>\n",
       "      <td>Gateau basque aux agrumes</td>\n",
       "      <td>Non</td>\n",
       "      <td>sans_avis</td>\n",
       "      <td>43.437635</td>\n",
       "      <td>-1.585311</td>\n",
       "      <td>43.387076</td>\n",
       "      <td>-1.663569</td>\n",
       "    </tr>\n",
       "  </tbody>\n",
       "</table>\n",
       "</div>"
      ],
      "text/plain": [
       "            boutique code_postal       client_anciennete frequence_visites  \\\n",
       "0  Saint-Jean-de-Luz       31410  Depuis quelques annees     exceptionelle   \n",
       "1  Saint-Jean-de-Luz       64500         Depuis toujours     exceptionelle   \n",
       "2  Saint-Jean-de-Luz       62400  Depuis quelques annees          regulier   \n",
       "3  Saint-Jean-de-Luz       33820  Depuis quelques annees     exceptionelle   \n",
       "4  Saint-Jean-de-Luz       64210  Depuis quelques annees     exceptionelle   \n",
       "\n",
       "                      captation  \\\n",
       "0              bouche_a_oreille   \n",
       "1              bouche_a_oreille   \n",
       "2                      boutique   \n",
       "3                      boutique   \n",
       "4  bouche_a_oreille_et_boutique   \n",
       "\n",
       "                                       causes_achats produit_prefere  \\\n",
       "0     pour me faire plaisir; pour regaler ma famille   Gateau basque   \n",
       "1  pour me faire plaisir; pour regaler ma famille...          Autres   \n",
       "2                              pour me faire plaisir          Autres   \n",
       "3        pour me faire plaisir; pour faire un cadeau          Autres   \n",
       "4        pour me faire plaisir; pour faire un cadeau          Autres   \n",
       "\n",
       "       produits_moins_connus client_internet volonte_boutique_proche  \\\n",
       "0             Je ne sais pas             Non                     Non   \n",
       "1                     Autres             Non               sans_avis   \n",
       "2                     Autres             Non               sans_avis   \n",
       "3                     Autres             Non                     oui   \n",
       "4  Gateau basque aux agrumes             Non               sans_avis   \n",
       "\n",
       "         lat        lon  lat_boutique  lon_boutique  \n",
       "0  43.367108   1.272896     43.387076     -1.663569  \n",
       "1  43.388867  -1.638179     43.387076     -1.663569  \n",
       "2  50.528190   2.642115     43.387076     -1.663569  \n",
       "3  61.466562  23.819322     43.387076     -1.663569  \n",
       "4  43.437635  -1.585311     43.387076     -1.663569  "
      ]
     },
     "execution_count": 10,
     "metadata": {},
     "output_type": "execute_result"
    }
   ],
   "source": [
    "df2 = pd.read_csv('data_cleaned.csv', index_col=0)\n",
    "df2.head(5)"
   ]
  },
  {
   "cell_type": "code",
   "execution_count": null,
   "metadata": {},
   "outputs": [
    {
     "name": "stderr",
     "output_type": "stream",
     "text": [
      "/tmp/ipykernel_4141/1107489302.py:1: FutureWarning: The default value of regex will change from True to False in a future version. In addition, single character regular expressions will *not* be treated as literal strings when regex=True.\n",
      "  df2['code postal'] = df2['code postal'].astype(str).str.replace('*', '0')\n"
     ]
    }
   ],
   "source": [
    "df2['code postal'] = df2['code postal'].astype(str).str.replace('*', '0')"
   ]
  },
  {
   "cell_type": "code",
   "execution_count": null,
   "metadata": {},
   "outputs": [
    {
     "ename": "TypeError",
     "evalue": "'set' object is not subscriptable",
     "output_type": "error",
     "traceback": [
      "\u001b[0;31m---------------------------------------------------------------------------\u001b[0m",
      "\u001b[0;31mTypeError\u001b[0m                                 Traceback (most recent call last)",
      "\u001b[0;32m/tmp/ipykernel_4141/1654043000.py\u001b[0m in \u001b[0;36m<module>\u001b[0;34m\u001b[0m\n\u001b[1;32m      1\u001b[0m \u001b[0mpostal_list\u001b[0m \u001b[0;34m=\u001b[0m \u001b[0mset\u001b[0m\u001b[0;34m(\u001b[0m\u001b[0mdf2\u001b[0m\u001b[0;34m[\u001b[0m\u001b[0;34m'code postal'\u001b[0m\u001b[0;34m]\u001b[0m\u001b[0;34m.\u001b[0m\u001b[0mvalue_counts\u001b[0m\u001b[0;34m(\u001b[0m\u001b[0;34m)\u001b[0m\u001b[0;34m.\u001b[0m\u001b[0mkeys\u001b[0m\u001b[0;34m(\u001b[0m\u001b[0;34m)\u001b[0m\u001b[0;34m.\u001b[0m\u001b[0mto_list\u001b[0m\u001b[0;34m(\u001b[0m\u001b[0;34m)\u001b[0m\u001b[0;34m)\u001b[0m\u001b[0;34m\u001b[0m\u001b[0;34m\u001b[0m\u001b[0m\n\u001b[0;32m----> 2\u001b[0;31m \u001b[0mpostal_list\u001b[0m\u001b[0;34m[\u001b[0m\u001b[0;36m0\u001b[0m\u001b[0;34m:\u001b[0m\u001b[0;36m5\u001b[0m\u001b[0;34m]\u001b[0m\u001b[0;34m\u001b[0m\u001b[0;34m\u001b[0m\u001b[0m\n\u001b[0m",
      "\u001b[0;31mTypeError\u001b[0m: 'set' object is not subscriptable"
     ]
    }
   ],
   "source": [
    "# Créer une liste de code postaux uniques\n",
    "postal_list = list(set(df2['code postal'][df2['code postal'].astype(str).str.match(r'^\\d{5}$')]))\n",
    "postal_list = set(df2['code postal'].value_counts().keys().to_list())\n",
    "postal_list[0:5]"
   ]
  },
  {
   "attachments": {},
   "cell_type": "markdown",
   "metadata": {},
   "source": [
    "# Get lon and lat"
   ]
  },
  {
   "cell_type": "code",
   "execution_count": null,
   "metadata": {},
   "outputs": [],
   "source": [
    "\n",
    "# import requests\n",
    "\n",
    "# def set_lon_lat(df, postal_list):\n",
    "#     df['lat'] = \"\"\n",
    "#     df['lon'] = \"\"\n",
    "    \n",
    "#     responses_dic = {i:requests.get(f'https://nominatim.openstreetmap.org/search?q={str(i)}&format=json') for i in postal_list}\n",
    "#     for index, row in df.iterrows():\n",
    "#         df.loc[index, 'lat'] = responses_dic[df.loc[index, 'code postal']].json()[0]['lat']\n",
    "#         df.loc[index, 'lon'] = responses_dic[df.loc[index, 'code postal']].json()[0]['lon'] \n",
    "#     df.to_csv('data_with_coordinates.csv', index=False)\n",
    "# set_lon_lat(df2, postal_list)"
   ]
  },
  {
   "cell_type": "code",
   "execution_count": null,
   "metadata": {},
   "outputs": [],
   "source": [
    "#Last cleaning\n",
    "import pandas as pd\n",
    "df2 = pd.read_csv('data_cleaned.csv', index_col=0)\n",
    "df2 = df2.replace({'é': 'e', 'è': 'e', 'ê': 'e', 'ë': 'e'}, regex=True)\n",
    "df2 = df2.replace({'â': 'a', 'à': 'a'}, regex=True)\n",
    "df2 = df2.replace({'û': 'u', 'ù': 'u', 'ü': 'u'}, regex=True)\n",
    "df2 = df2.replace({'ô': 'o'}, regex=True)\n",
    "df2['frequence_visites'] = df2['frequence_visites'].replace({'visite mensuelle': 'regulier','3 fois par semaine': 'regulier','visite hebdomadaire': 'regulier','Tous les 15 jours': 'regulier','Tous les jours': 'regulier','Tous les 2 jours': 'regulier','visite hebdomadaire; visite exceptionnelle': 'regulier',\"C'est la premiere fois !\": 'premiere_fois','Par trimetres': 'exceptionelle',\"Surtout l'ete\": 'exceptionelle',\"Surtout l’ete\": 'exceptionelle','Par an': 'exceptionelle','Surtout en ete': 'exceptionelle',\"Surtout l'ete; Noel\": 'exceptionelle','visite exceptionnelle; Surtout en ete': 'exceptionelle', 'visite exceptionnelle, Surtout en ete': 'exceptionelle','visite exceptionnelle': 'exceptionelle'})\n",
    "df2['produit_prefere'].fillna('sans_avis', inplace=True)\n",
    "df2['produits_moins_connus'].fillna('pas_repondu', inplace=True)\n",
    "df2['volonte_boutique_proche'].fillna('sans_avis', inplace=True)\n",
    "counts = df2['produit_prefere'].value_counts()\n",
    "top_5 = counts.head(5).index.tolist()\n",
    "df2['produit_prefere'] = df2['produit_prefere'].apply(lambda x: x if x in top_5 else 'Autres')\n",
    "df2['produits_moins_connus'] = df2['produits_moins_connus'] .replace({'pas_repondu': 'Je ne sais pas'})\n",
    "counts2 = df2['produits_moins_connus'].value_counts()\n",
    "least_5 = counts2.head(5).index.tolist()\n",
    "df2['produits_moins_connus'] = df2['produits_moins_connus'].apply(lambda x: x if x in least_5 else 'Autres')#df2"
   ]
  },
  {
   "cell_type": "code",
   "execution_count": null,
   "metadata": {},
   "outputs": [],
   "source": [
    "#GET lat and lon from boutiques\n",
    "import requests\n",
    "import pandas as pd\n",
    "\n",
    "df = pd.read_csv('data_cleaned.csv', index_col=0).replace('St Jean', 'Saint-Jean-de-Luz')\n",
    "boutiques = df.boutique.value_counts().keys().to_list()\n",
    "def set_lon_lat(df, list):\n",
    "    df['lat_boutique'] = \"\"\n",
    "    df['lon_boutique'] = \"\"\n",
    "    \n",
    "    responses_dic = {i:requests.get(f'https://nominatim.openstreetmap.org/search?q={str(i)}&format=json') for i in list}\n",
    "    for index, row in df.iterrows():\n",
    "        df.loc[index, 'lat_boutique'] = responses_dic[df.loc[index, 'boutique']].json()[0]['lat']\n",
    "        df.loc[index, 'lon_boutique'] = responses_dic[df.loc[index, 'boutique']].json()[0]['lon'] \n",
    "    df.to_csv('data_with_coordinates.csv', index=False)\n",
    "\n",
    "set_lon_lat(df, boutiques)\n"
   ]
  },
  {
   "cell_type": "code",
   "execution_count": 7,
   "metadata": {},
   "outputs": [],
   "source": [
    "l = [\"par hasard en passant devant\",\"via les reseaux\",\"par hasard en passant devant; bouche a oreille\"]\n",
    "def cleanning_captation(x) :\n",
    "    if x in l :\n",
    "        if x == l[0]:\n",
    "            x = \"boutique\"\n",
    "        elif x == l[1] :\n",
    "            x = \"reseaux\"\n",
    "        elif x == l[2] :\n",
    "            x = \"bouche_a_oreille_et_boutique\"\n",
    "    else :\n",
    "        x = \"bouche_a_oreille\"\n",
    "    return x\n",
    "df2[\"captation\"] = df2[\"captation\"].apply(cleanning_captation)\n",
    "df2[\"captation\"].value_counts()"
   ]
  }
 ],
 "metadata": {
  "kernelspec": {
   "display_name": "simplon",
   "language": "python",
   "name": "python3"
  },
  "language_info": {
   "codemirror_mode": {
    "name": "ipython",
    "version": 3
   },
   "file_extension": ".py",
   "mimetype": "text/x-python",
   "name": "python",
   "nbconvert_exporter": "python",
   "pygments_lexer": "ipython3",
   "version": "3.8.12"
  },
  "orig_nbformat": 4,
  "vscode": {
   "interpreter": {
    "hash": "503123401f496096e0f028585efad06d42166f80d999c13f687c901dac905c09"
   }
  }
 },
 "nbformat": 4,
 "nbformat_minor": 2
}
