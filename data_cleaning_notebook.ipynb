{
 "cells": [
  {
   "cell_type": "code",
   "execution_count": 1,
   "metadata": {},
   "outputs": [],
   "source": [
    "# !source AI4INDUSTRY-env/bin/activate"
   ]
  },
  {
   "cell_type": "code",
   "execution_count": 2,
   "metadata": {},
   "outputs": [],
   "source": [
    "# !pip install odfpy\n",
    "# !pip install pandas\n",
    "# !pip install openpyxl\n",
    "# !pip install requests\n",
    "# !pip install seaborn\n",
    "# !pip install folium\n",
    "# !pip install matplotlib\n",
    "# !pip install scikit-learn"
   ]
  },
  {
   "cell_type": "code",
   "execution_count": 3,
   "metadata": {},
   "outputs": [],
   "source": [
    "import pandas as pd"
   ]
  },
  {
   "cell_type": "code",
   "execution_count": null,
   "metadata": {},
   "outputs": [],
   "source": [
    "df2 = pd.read_csv('data_with_coordinates.csv')\n",
    "df2.head(5)"
   ]
  },
  {
   "cell_type": "code",
   "execution_count": null,
   "metadata": {},
   "outputs": [
    {
     "name": "stderr",
     "output_type": "stream",
     "text": [
      "/tmp/ipykernel_4141/1107489302.py:1: FutureWarning: The default value of regex will change from True to False in a future version. In addition, single character regular expressions will *not* be treated as literal strings when regex=True.\n",
      "  df2['code postal'] = df2['code postal'].astype(str).str.replace('*', '0')\n"
     ]
    }
   ],
   "source": [
    "df2['code postal'] = df2['code postal'].astype(str).str.replace('*', '0')"
   ]
  },
  {
   "cell_type": "code",
   "execution_count": null,
   "metadata": {},
   "outputs": [],
   "source": [
    "# \n",
    "postal_list = list(set(df2['code postal'][df2['code postal'].astype(str).str.match(r'^\\d{5}$')]))"
   ]
  },
  {
   "cell_type": "code",
   "execution_count": null,
   "metadata": {},
   "outputs": [
    {
     "ename": "TypeError",
     "evalue": "'set' object is not subscriptable",
     "output_type": "error",
     "traceback": [
      "\u001b[0;31m---------------------------------------------------------------------------\u001b[0m",
      "\u001b[0;31mTypeError\u001b[0m                                 Traceback (most recent call last)",
      "\u001b[0;32m/tmp/ipykernel_4141/1654043000.py\u001b[0m in \u001b[0;36m<module>\u001b[0;34m\u001b[0m\n\u001b[1;32m      1\u001b[0m \u001b[0mpostal_list\u001b[0m \u001b[0;34m=\u001b[0m \u001b[0mset\u001b[0m\u001b[0;34m(\u001b[0m\u001b[0mdf2\u001b[0m\u001b[0;34m[\u001b[0m\u001b[0;34m'code postal'\u001b[0m\u001b[0;34m]\u001b[0m\u001b[0;34m.\u001b[0m\u001b[0mvalue_counts\u001b[0m\u001b[0;34m(\u001b[0m\u001b[0;34m)\u001b[0m\u001b[0;34m.\u001b[0m\u001b[0mkeys\u001b[0m\u001b[0;34m(\u001b[0m\u001b[0;34m)\u001b[0m\u001b[0;34m.\u001b[0m\u001b[0mto_list\u001b[0m\u001b[0;34m(\u001b[0m\u001b[0;34m)\u001b[0m\u001b[0;34m)\u001b[0m\u001b[0;34m\u001b[0m\u001b[0;34m\u001b[0m\u001b[0m\n\u001b[0;32m----> 2\u001b[0;31m \u001b[0mpostal_list\u001b[0m\u001b[0;34m[\u001b[0m\u001b[0;36m0\u001b[0m\u001b[0;34m:\u001b[0m\u001b[0;36m5\u001b[0m\u001b[0;34m]\u001b[0m\u001b[0;34m\u001b[0m\u001b[0;34m\u001b[0m\u001b[0m\n\u001b[0m",
      "\u001b[0;31mTypeError\u001b[0m: 'set' object is not subscriptable"
     ]
    }
   ],
   "source": [
    "postal_list = set(df2['code postal'].value_counts().keys().to_list())\n",
    "postal_list[0:5]"
   ]
  },
  {
   "cell_type": "code",
   "execution_count": null,
   "metadata": {},
   "outputs": [
    {
     "name": "stdout",
     "output_type": "stream",
     "text": [
      "(('Boutique', 4), ('Boutique', 6))\n",
      "(('code postal', 117), ('code postal', 456))\n",
      "(('Depuis combien de temps êtes vous un client de la Maison Pariès ?', 4), ('Depuis combien de temps êtes vous un client de la Maison Pariès ?', 4))\n",
      "(('A quelle fréquence venez-vous nous rendre visite ?', 7), ('A quelle fréquence venez-vous nous rendre visite ?', 13))\n",
      "(('Comment nous avez-vous connus ?', 31), ('Comment nous avez-vous connus ?', 36))\n",
      "(('En 2 mots, comment définiriez-vous la Maison ?', 211), ('En 2 mots, comment définiriez-vous la Maison ?', 400))\n",
      "(('A quelle(s) occasion(s) effectuez-vous des achats chez nous', 26), ('A quelle(s) occasion(s) effectuez-vous des achats chez nous', 51))\n",
      "(('Quel est le produit que vous préférez ?', 118), ('Quel est le produit que vous préférez ?', 158))\n",
      "(('Quel est le dernier produit de la gamme Pariès que vous connaissez ?', 49), ('Quel est le dernier produit de la gamme Pariès que vous connaissez ?', 69))\n",
      "(('8. Quels sont les produits de nos gammes que vous achetez chez d’autres artisans ?', 54), ('8. Quels sont les produits de nos gammes que vous achetez chez d’autres artisans ?', 63))\n",
      "(('Pourquoi ?', 34), ('Pourquoi ?', 52))\n",
      "(('Où achetez-vous nos produits ?', 2), ('Où achetez-vous nos produits ?', 2))\n",
      "(('Avez-vous déjà eu l’occasion de commander nos produits sur notre site en ligne ?', 2), ('Avez-vous déjà eu l’occasion de commander nos produits sur notre site en ligne ?', 2))\n",
      "((\"Si vous n'êtes pas de la région, aimeriez-vous pouvoir trouver nos produits à proximité de votre domicile ?\", 2), (\"Si vous n'êtes pas de la région, aimeriez-vous pouvoir trouver nos produits à proximité de votre domicile ?\", 2))\n",
      "(('Que devons-nous faire pour progresser ?', 80), ('Que devons-nous faire pour progresser ?', 132))\n",
      "(('14. Dans les grandes évolutions de la consommation, quelles sont les 3 qui vous tiennent le plus à cœur ?', 37), ('14. Dans les grandes évolutions de la consommation, quelles sont les 3 qui vous tiennent le plus à cœur ?', 65))\n",
      "(('Sexe', 3), ('Sexe', 2))\n",
      "(('Quelle est votre catégorie socio-professionnelle ?', 10), ('Quelle est votre catégorie socio-professionnelle ?', 10))\n",
      "((\"Tranche d'âge\", 6), (\"Tranche d'âge\", 6))\n",
      "(('de combien de personnes se compose votre foyer ?', 5), ('de combien de personnes se compose votre foyer ?', 9))\n",
      "((\"S'il y a des enfants dans votre foyer, quel âge ont-ils ?\", 10), (\"S'il y a des enfants dans votre foyer, quel âge ont-ils ?\", 13))\n",
      "(('Êtes-vous abonné à notre newsletter ?', 2), ('Êtes-vous abonné à notre newsletter ?', 2))\n",
      "(('Si non, confiez-moi votre adresse mail pour recevoir notre actualité (moins de 10 mails par an)', 1), ('Si non, confiez-moi votre adresse mail pour recevoir notre actualité (moins de 10 mails par an)', 1))\n"
     ]
    }
   ],
   "source": [
    "for i in zip(df[:].nunique().items(), df2[:].nunique().items()):\n",
    "    print(i)"
   ]
  },
  {
   "cell_type": "code",
   "execution_count": null,
   "metadata": {},
   "outputs": [
    {
     "data": {
      "text/plain": [
       "80209"
      ]
     },
     "execution_count": 72,
     "metadata": {},
     "output_type": "execute_result"
    }
   ],
   "source": [
    "df.loc[1,\"code postal\"]"
   ]
  },
  {
   "cell_type": "code",
   "execution_count": null,
   "metadata": {},
   "outputs": [],
   "source": [
    "# Get lon and lat\n",
    "# import requests\n",
    "\n",
    "# def set_lon_lat(df, postal_list):\n",
    "#     df['lat'] = \"\"\n",
    "#     df['lon'] = \"\"\n",
    "    \n",
    "#     responses_dic = {i:requests.get(f'https://nominatim.openstreetmap.org/search?q={str(i)}&format=json') for i in postal_list}\n",
    "#     for index, row in df.iterrows():\n",
    "#         df.loc[index, 'lat'] = responses_dic[df.loc[index, 'code postal']].json()[0]['lat']\n",
    "#         df.loc[index, 'lon'] = responses_dic[df.loc[index, 'code postal']].json()[0]['lon'] \n",
    "#     df.to_csv('data_with_coordinates.csv', index=False)\n",
    "# set_lon_lat(df2, postal_list)"
   ]
  },
  {
   "cell_type": "code",
   "execution_count": null,
   "metadata": {},
   "outputs": [],
   "source": [
    "#Last cleaning\n",
    "import pandas as pd\n",
    "df2 = pd.read_csv('data_cleaned.csv', index_col=0)\n",
    "df2 = df2.replace({'é': 'e', 'è': 'e', 'ê': 'e', 'ë': 'e'}, regex=True)\n",
    "df2 = df2.replace({'â': 'a', 'à': 'a'}, regex=True)\n",
    "df2 = df2.replace({'û': 'u', 'ù': 'u', 'ü': 'u'}, regex=True)\n",
    "df2 = df2.replace({'ô': 'o'}, regex=True)\n",
    "df2['frequence_visites'] = df2['frequence_visites'].replace({'visite mensuelle': 'regulier','3 fois par semaine': 'regulier','visite hebdomadaire': 'regulier','Tous les 15 jours': 'regulier','Tous les jours': 'regulier','Tous les 2 jours': 'regulier','visite hebdomadaire; visite exceptionnelle': 'regulier',\"C'est la premiere fois !\": 'premiere_fois','Par trimetres': 'exceptionelle',\"Surtout l'ete\": 'exceptionelle',\"Surtout l’ete\": 'exceptionelle','Par an': 'exceptionelle','Surtout en ete': 'exceptionelle',\"Surtout l'ete; Noel\": 'exceptionelle','visite exceptionnelle; Surtout en ete': 'exceptionelle', 'visite exceptionnelle, Surtout en ete': 'exceptionelle','visite exceptionnelle': 'exceptionelle'})\n",
    "df2['produit_prefere'].fillna('sans_avis', inplace=True)\n",
    "df2['produits_moins_connus'].fillna('pas_repondu', inplace=True)\n",
    "df2['volonte_boutique_proche'].fillna('sans_avis', inplace=True)\n",
    "counts = df2['produit_prefere'].value_counts()\n",
    "top_5 = counts.head(5).index.tolist()\n",
    "df2['produit_prefere'] = df2['produit_prefere'].apply(lambda x: x if x in top_5 else 'Autres')\n",
    "df2['produits_moins_connus'] = df2['produits_moins_connus'] .replace({'pas_repondu': 'Je ne sais pas'})\n",
    "counts2 = df2['produits_moins_connus'].value_counts()\n",
    "least_5 = counts2.head(5).index.tolist()\n",
    "df2['produits_moins_connus'] = df2['produits_moins_connus'].apply(lambda x: x if x in least_5 else 'Autres')#df2"
   ]
  },
  {
   "cell_type": "code",
   "execution_count": null,
   "metadata": {},
   "outputs": [],
   "source": [
    "#GET lat and lon from boutiques\n",
    "import requests\n",
    "import pandas as pd\n",
    "\n",
    "df = pd.read_csv('data_cleaned.csv', index_col=0).replace('St Jean', 'Saint-Jean-de-Luz')\n",
    "boutiques = df.boutique.value_counts().keys().to_list()\n",
    "def set_lon_lat(df, list):\n",
    "    df['lat_boutique'] = \"\"\n",
    "    df['lon_boutique'] = \"\"\n",
    "    \n",
    "    responses_dic = {i:requests.get(f'https://nominatim.openstreetmap.org/search?q={str(i)}&format=json') for i in list}\n",
    "    for index, row in df.iterrows():\n",
    "        df.loc[index, 'lat_boutique'] = responses_dic[df.loc[index, 'boutique']].json()[0]['lat']\n",
    "        df.loc[index, 'lon_boutique'] = responses_dic[df.loc[index, 'boutique']].json()[0]['lon'] \n",
    "    df.to_csv('data_with_coordinates.csv', index=False)\n",
    "\n",
    "set_lon_lat(df, boutiques)\n"
   ]
  },
  {
   "cell_type": "code",
   "execution_count": 7,
   "metadata": {},
   "outputs": [],
   "source": [
    "l = [\"par hasard en passant devant\",\"via les reseaux\",\"par hasard en passant devant; bouche a oreille\"]\n",
    "def cleanning_captation(x) :\n",
    "    if x in l :\n",
    "        if x == l[0]:\n",
    "            x = \"boutique\"\n",
    "        elif x == l[1] :\n",
    "            x = \"reseaux\"\n",
    "        elif x == l[2] :\n",
    "            x = \"bouche_a_oreille_et_boutique\"\n",
    "    else :\n",
    "        x = \"bouche_a_oreille\"\n",
    "    return x\n",
    "df2[\"captation\"] = df2[\"captation\"].apply(cleanning_captation)\n",
    "df2[\"captation\"].value_counts()"
   ]
  }
 ],
 "metadata": {
  "kernelspec": {
   "display_name": "simplon",
   "language": "python",
   "name": "python3"
  },
  "language_info": {
   "codemirror_mode": {
    "name": "ipython",
    "version": 3
   },
   "file_extension": ".py",
   "mimetype": "text/x-python",
   "name": "python",
   "nbconvert_exporter": "python",
   "pygments_lexer": "ipython3",
   "version": "3.8.12"
  },
  "orig_nbformat": 4,
  "vscode": {
   "interpreter": {
    "hash": "503123401f496096e0f028585efad06d42166f80d999c13f687c901dac905c09"
   }
  }
 },
 "nbformat": 4,
 "nbformat_minor": 2
}
