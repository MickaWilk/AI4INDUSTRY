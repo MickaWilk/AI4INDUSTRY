{
 "cells": [
  {
   "cell_type": "code",
   "execution_count": 44,
   "metadata": {},
   "outputs": [],
   "source": [
    "import pandas as pd\n",
    "\n",
    "df = pd.read_csv('data_cleaned.csv', index_col=0).drop(['produits_moins_connus', 'client_internet', 'causes_achats', 'boutique', 'code_postal'], axis=1)"
   ]
  },
  {
   "cell_type": "code",
   "execution_count": 45,
   "metadata": {},
   "outputs": [
    {
     "data": {
      "text/html": [
       "<div>\n",
       "<style scoped>\n",
       "    .dataframe tbody tr th:only-of-type {\n",
       "        vertical-align: middle;\n",
       "    }\n",
       "\n",
       "    .dataframe tbody tr th {\n",
       "        vertical-align: top;\n",
       "    }\n",
       "\n",
       "    .dataframe thead th {\n",
       "        text-align: right;\n",
       "    }\n",
       "</style>\n",
       "<table border=\"1\" class=\"dataframe\">\n",
       "  <thead>\n",
       "    <tr style=\"text-align: right;\">\n",
       "      <th></th>\n",
       "      <th>frequence_visites</th>\n",
       "      <th>client_anciennete</th>\n",
       "    </tr>\n",
       "  </thead>\n",
       "  <tbody>\n",
       "    <tr>\n",
       "      <th>206</th>\n",
       "      <td>regulier</td>\n",
       "      <td>Depuis quelques annees</td>\n",
       "    </tr>\n",
       "    <tr>\n",
       "      <th>31</th>\n",
       "      <td>exceptionelle</td>\n",
       "      <td>Depuis quelques annees</td>\n",
       "    </tr>\n",
       "    <tr>\n",
       "      <th>941</th>\n",
       "      <td>exceptionelle</td>\n",
       "      <td>Depuis quelques annees</td>\n",
       "    </tr>\n",
       "    <tr>\n",
       "      <th>295</th>\n",
       "      <td>exceptionelle</td>\n",
       "      <td>Depuis quelques annees</td>\n",
       "    </tr>\n",
       "    <tr>\n",
       "      <th>1086</th>\n",
       "      <td>regulier</td>\n",
       "      <td>Depuis toujours</td>\n",
       "    </tr>\n",
       "    <tr>\n",
       "      <th>...</th>\n",
       "      <td>...</td>\n",
       "      <td>...</td>\n",
       "    </tr>\n",
       "    <tr>\n",
       "      <th>698</th>\n",
       "      <td>exceptionelle</td>\n",
       "      <td>Depuis toujours</td>\n",
       "    </tr>\n",
       "    <tr>\n",
       "      <th>236</th>\n",
       "      <td>exceptionelle</td>\n",
       "      <td>C’est une de mes premieres visites</td>\n",
       "    </tr>\n",
       "    <tr>\n",
       "      <th>652</th>\n",
       "      <td>premiere_fois</td>\n",
       "      <td>C’est une de mes premieres visites</td>\n",
       "    </tr>\n",
       "    <tr>\n",
       "      <th>797</th>\n",
       "      <td>exceptionelle</td>\n",
       "      <td>Depuis quelques annees</td>\n",
       "    </tr>\n",
       "    <tr>\n",
       "      <th>335</th>\n",
       "      <td>exceptionelle</td>\n",
       "      <td>Depuis quelques annees</td>\n",
       "    </tr>\n",
       "  </tbody>\n",
       "</table>\n",
       "<p>833 rows × 2 columns</p>\n",
       "</div>"
      ],
      "text/plain": [
       "     frequence_visites                   client_anciennete\n",
       "206           regulier              Depuis quelques annees\n",
       "31       exceptionelle              Depuis quelques annees\n",
       "941      exceptionelle              Depuis quelques annees\n",
       "295      exceptionelle              Depuis quelques annees\n",
       "1086          regulier                     Depuis toujours\n",
       "...                ...                                 ...\n",
       "698      exceptionelle                     Depuis toujours\n",
       "236      exceptionelle  C’est une de mes premieres visites\n",
       "652      premiere_fois  C’est une de mes premieres visites\n",
       "797      exceptionelle              Depuis quelques annees\n",
       "335      exceptionelle              Depuis quelques annees\n",
       "\n",
       "[833 rows x 2 columns]"
      ]
     },
     "execution_count": 45,
     "metadata": {},
     "output_type": "execute_result"
    }
   ],
   "source": [
    "from sklearn.ensemble import RandomForestClassifier\n",
    "from sklearn.metrics import confusion_matrix\n",
    "from sklearn.model_selection import train_test_split\n",
    "from sklearn.preprocessing import OneHotEncoder\n",
    "\n",
    "X,y = df[['frequence_visites', 'client_anciennete']], df['produit_prefere']\n",
    "# Charger les données d'entraînement et de test\n",
    "X_train, X_test, y_train, y_test = train_test_split(X,y, test_size=0.30)\n",
    "X_train"
   ]
  },
  {
   "cell_type": "code",
   "execution_count": 52,
   "metadata": {},
   "outputs": [
    {
     "data": {
      "text/plain": [
       "[array(['exceptionelle', 'premiere_fois', 'regulier'], dtype=object),\n",
       " array(['C’est une de mes premieres visites', \"Depuis moins d'un an\",\n",
       "        'Depuis quelques annees', 'Depuis toujours'], dtype=object)]"
      ]
     },
     "execution_count": 52,
     "metadata": {},
     "output_type": "execute_result"
    }
   ],
   "source": [
    "\n",
    "encoder = OneHotEncoder(handle_unknown='ignore')\n",
    "X_train_scaled = encoder.fit_transform(X_train[:])\n",
    "X_test_scaled = encoder.transform(X_test[:])\n",
    "encoder.categories_"
   ]
  },
  {
   "cell_type": "code",
   "execution_count": 54,
   "metadata": {},
   "outputs": [
    {
     "name": "stdout",
     "output_type": "stream",
     "text": [
      "[[87  0 50  0  0  2]\n",
      " [ 8  0  9  0  0  1]\n",
      " [41  0 46  0  0  5]\n",
      " [ 9  0  7  0  0  1]\n",
      " [24  0 17  0  0  1]\n",
      " [ 2  0  0  0  0 48]]\n"
     ]
    }
   ],
   "source": [
    "\n",
    "# Initialiser le modèle de forêt aléatoire\n",
    "clf = RandomForestClassifier(n_estimators=100)\n",
    "\n",
    "# Entraîner le modèle sur les données d'entraînement\n",
    "clf.fit(X_train_scaled, y_train)\n",
    "\n",
    "# Prédire les étiquettes de test\n",
    "y_pred = clf.predict(X_test_scaled)\n",
    "\n",
    "# Calculer la matrice de confusion\n",
    "confusion = confusion_matrix(y_test, y_pred)\n",
    "print(confusion)"
   ]
  }
 ],
 "metadata": {
  "kernelspec": {
   "display_name": "Python 3",
   "language": "python",
   "name": "python3"
  },
  "language_info": {
   "codemirror_mode": {
    "name": "ipython",
    "version": 3
   },
   "file_extension": ".py",
   "mimetype": "text/x-python",
   "name": "python",
   "nbconvert_exporter": "python",
   "pygments_lexer": "ipython3",
   "version": "3.8.12"
  },
  "orig_nbformat": 4,
  "vscode": {
   "interpreter": {
    "hash": "e588d92b224e11b16adbbadd39936dea13a6488171770263a646fc57f44563d8"
   }
  }
 },
 "nbformat": 4,
 "nbformat_minor": 2
}
